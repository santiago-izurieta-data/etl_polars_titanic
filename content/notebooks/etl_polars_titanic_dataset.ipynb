{
  "nbformat": 4,
  "nbformat_minor": 0,
  "metadata": {
    "colab": {
      "provenance": []
    },
    "kernelspec": {
      "name": "python3",
      "display_name": "Python 3"
    },
    "language_info": {
      "name": "python"
    }
  },
  "cells": [
    {
      "cell_type": "code",
      "execution_count": null,
      "metadata": {
        "id": "CJY0v-G8c-ze"
      },
      "outputs": [],
      "source": [
        "# ============================================================\n",
        "# 🚢 Proyecto ETL Titanic Dataset con Arquitectura Medallion\n",
        "# Author: SI\n",
        "# ============================================================\n",
        "\n",
        "# =======================\n",
        "# 1️⃣ IMPORTAR LIBRERÍAS\n",
        "# =======================\n",
        "import os\n",
        "import datetime\n",
        "import logging\n",
        "import polars as pl\n",
        "import matplotlib.pyplot as plt\n",
        "import seaborn as sns"
      ]
    },
    {
      "cell_type": "code",
      "source": [
        "# =======================\n",
        "# 2️⃣ CONFIGURACIÓN GLOBAL\n",
        "# =======================\n",
        "# Logging\n",
        "logging.basicConfig(level=logging.INFO, format='%(asctime)s - %(levelname)s - %(message)s')\n",
        "logger = logging.getLogger(__name__)\n",
        "\n",
        "# Crear estructura de carpetas (Bronze/Silver/Gold)\n",
        "BASE_PATH = \"/content/data\"\n",
        "for layer in [\"bronze\", \"silver\", \"gold\"]:\n",
        "    os.makedirs(f\"{BASE_PATH}/{layer}\", exist_ok=True)\n",
        "logger.info(\"Carpetas de datos creadas correctamente.\")"
      ],
      "metadata": {
        "id": "K00MGdQ9dsre"
      },
      "execution_count": null,
      "outputs": []
    },
    {
      "cell_type": "code",
      "source": [
        "# =======================\n",
        "# 3️⃣ EXTRACCIÓN (EXTRACT)\n",
        "# =======================\n",
        "def extract_titanic_data() -> pl.DataFrame:\n",
        "    \"\"\"\n",
        "    Descarga el dataset Titanic y lo carga como DataFrame Polars.\n",
        "    \"\"\"\n",
        "    url = \"https://raw.githubusercontent.com/datasciencedojo/datasets/master/titanic.csv\"\n",
        "    local_path = f\"{BASE_PATH}/bronze/titanic_raw.csv\"\n",
        "\n",
        "    try:\n",
        "        logger.info(\"Descargando dataset Titanic...\")\n",
        "        os.system(f\"wget -q -O {local_path} {url}\")\n",
        "        df = pl.read_csv(local_path)\n",
        "        df = df.with_columns(pl.lit(datetime.datetime.now()).alias(\"ingestion_timestamp\"))\n",
        "        logger.info(f\"Dataset Titanic cargado con {df.height} registros y {df.width} columnas.\")\n",
        "        return df\n",
        "    except Exception as e:\n",
        "        logger.error(f\"Error al extraer los datos: {e}\")\n",
        "        raise"
      ],
      "metadata": {
        "id": "vTupzd3Rd5Pl"
      },
      "execution_count": null,
      "outputs": []
    },
    {
      "cell_type": "code",
      "source": [
        "# =======================\n",
        "# 4️⃣ CAPA BRONZE\n",
        "# =======================\n",
        "def load_bronze(df: pl.DataFrame):\n",
        "    \"\"\"\n",
        "    Guarda los datos crudos en formato Parquet (Bronze Layer).\n",
        "    \"\"\"\n",
        "    output_path = f\"{BASE_PATH}/bronze/titanic_bronze.parquet\"\n",
        "    df.write_parquet(output_path)\n",
        "    logger.info(f\"Datos Bronze guardados en {output_path}\")"
      ],
      "metadata": {
        "id": "kHh9Y7-_eEV6"
      },
      "execution_count": null,
      "outputs": []
    },
    {
      "cell_type": "code",
      "source": [
        "# =======================\n",
        "# 5️⃣ CAPA SILVER\n",
        "# =======================\n",
        "def transform_silver(df: pl.DataFrame) -> pl.DataFrame:\n",
        "    \"\"\"\n",
        "    Limpieza y estandarización:\n",
        "    - Manejo de valores nulos (Age)\n",
        "    - Categorización de tarifas\n",
        "    - Eliminación de duplicados\n",
        "    - Tipos de datos correctos\n",
        "    \"\"\"\n",
        "    logger.info(\"Iniciando transformaciones Silver...\")\n",
        "\n",
        "    # Imputar edades nulas con la mediana\n",
        "    median_age = df[\"Age\"].median()\n",
        "    df = df.with_columns(\n",
        "        pl.when(pl.col(\"Age\").is_null())\n",
        "        .then(median_age)\n",
        "        .otherwise(pl.col(\"Age\"))\n",
        "        .alias(\"Age\")\n",
        "    )\n",
        "\n",
        "    # Categorizar tarifa (Fare)\n",
        "    df = df.with_columns(\n",
        "      pl.when(pl.col(\"Fare\") < 10).then(pl.lit(\"Low\"))\n",
        "      .when(pl.col(\"Fare\") < 30).then(pl.lit(\"Medium\"))\n",
        "      .when(pl.col(\"Fare\") < 100).then(pl.lit(\"High\"))\n",
        "      .otherwise(pl.lit(\"Very High\"))\n",
        "      .alias(\"FareCategory\")\n",
        "    )\n",
        "\n",
        "    # Eliminar duplicados (por PassengerId)\n",
        "    df = df.unique(subset=[\"PassengerId\"])\n",
        "\n",
        "    # Convertir columnas de texto a string explícitamente\n",
        "    df = df.with_columns([\n",
        "        pl.col(\"Name\").cast(pl.Utf8),\n",
        "        pl.col(\"Sex\").cast(pl.Utf8),\n",
        "        pl.col(\"Embarked\").cast(pl.Utf8)\n",
        "    ])\n",
        "\n",
        "    logger.info(f\"Transformaciones Silver aplicadas. Total registros: {df.height}\")\n",
        "    return df\n",
        "\n",
        "\n",
        "def load_silver(df: pl.DataFrame):\n",
        "    \"\"\"\n",
        "    Guarda los datos limpios en formato Parquet (Silver Layer).\n",
        "    \"\"\"\n",
        "    output_path = f\"{BASE_PATH}/silver/titanic_silver.parquet\"\n",
        "    df.write_parquet(output_path)\n",
        "    logger.info(f\"Datos Silver guardados en {output_path}\")"
      ],
      "metadata": {
        "id": "LA5lsyQIeg_x"
      },
      "execution_count": null,
      "outputs": []
    },
    {
      "cell_type": "code",
      "source": [
        "# =======================\n",
        "# 6️⃣ CAPA GOLD\n",
        "# =======================\n",
        "def aggregate_gold(df: pl.DataFrame) -> pl.DataFrame:\n",
        "    \"\"\"\n",
        "    Crea métricas de negocio:\n",
        "    - Tasa de supervivencia por clase\n",
        "    - Tasa de supervivencia por género\n",
        "    \"\"\"\n",
        "    logger.info(\"Iniciando agregaciones Gold...\")\n",
        "\n",
        "    survival_by_class = (\n",
        "        df.group_by(\"Pclass\")\n",
        "          .agg([\n",
        "              pl.col(\"Survived\").mean().alias(\"SurvivalRate\"),\n",
        "              pl.len().alias(\"TotalPassengers\")\n",
        "          ])\n",
        "          .sort(\"Pclass\")\n",
        "    )\n",
        "\n",
        "    survival_by_gender = (\n",
        "        df.group_by(\"Sex\")\n",
        "          .agg([\n",
        "              pl.col(\"Survived\").mean().alias(\"SurvivalRate\"),\n",
        "              pl.len().alias(\"TotalPassengers\")\n",
        "          ])\n",
        "    )\n",
        "\n",
        "    # Guardar ambos resultados\n",
        "    survival_by_class.write_parquet(f\"{BASE_PATH}/gold/survival_by_class.parquet\")\n",
        "    survival_by_gender.write_parquet(f\"{BASE_PATH}/gold/survival_by_gender.parquet\")\n",
        "\n",
        "    logger.info(\"Tablas Gold generadas correctamente.\")\n",
        "    return survival_by_class, survival_by_gender"
      ],
      "metadata": {
        "id": "SQv16aANeoOo"
      },
      "execution_count": null,
      "outputs": []
    },
    {
      "cell_type": "code",
      "source": [
        "# =======================\n",
        "# 7️⃣ VISUALIZACIÓN (Gold)\n",
        "# =======================\n",
        "def visualize_gold(df_class: pl.DataFrame, df_gender: pl.DataFrame):\n",
        "    \"\"\"\n",
        "    Crea visualizaciones de tasas de supervivencia por clase y género.\n",
        "    \"\"\"\n",
        "    sns.set(style=\"whitegrid\")\n",
        "    fig, axes = plt.subplots(1, 2, figsize=(12, 5))\n",
        "\n",
        "    # Supervivencia por clase\n",
        "    sns.barplot(x=df_class[\"Pclass\"].to_pandas(),\n",
        "                y=df_class[\"SurvivalRate\"].to_pandas(),\n",
        "                hue=df_class[\"Pclass\"].to_pandas(),\n",
        "                palette=\"Blues_d\", ax=axes[0])\n",
        "    axes[0].set_title(\"Tasa de Supervivencia por Clase\")\n",
        "    axes[0].set_xlabel(\"Clase\")\n",
        "    axes[0].set_ylabel(\"Tasa de Supervivencia\")\n",
        "\n",
        "    # Supervivencia por género\n",
        "    sns.barplot(x=df_gender[\"Sex\"].to_pandas(),\n",
        "                y=df_gender[\"SurvivalRate\"].to_pandas(),\n",
        "                hue=df_gender[\"Sex\"].to_pandas(),\n",
        "                palette=\"Purples_d\", ax=axes[1])\n",
        "    axes[1].set_title(\"Tasa de Supervivencia por Género\")\n",
        "    axes[1].set_xlabel(\"Género\")\n",
        "    axes[1].set_ylabel(\"Tasa de Supervivencia\")\n",
        "\n",
        "    plt.tight_layout()\n",
        "    plt.show()"
      ],
      "metadata": {
        "id": "kMp8wYILeuVD"
      },
      "execution_count": null,
      "outputs": []
    },
    {
      "cell_type": "code",
      "source": [
        "# =======================\n",
        "# 8️⃣ PIPELINE PRINCIPAL\n",
        "# =======================\n",
        "def main():\n",
        "    logger.info(\"=== INICIANDO PIPELINE ETL TITANIC ===\")\n",
        "\n",
        "    # EXTRACT\n",
        "    df_raw = extract_titanic_data()\n",
        "    load_bronze(df_raw)\n",
        "\n",
        "    # SILVER\n",
        "    df_silver = transform_silver(df_raw)\n",
        "    load_silver(df_silver)\n",
        "\n",
        "    # GOLD\n",
        "    df_class, df_gender = aggregate_gold(df_silver)\n",
        "\n",
        "    # VISUALIZACIÓN\n",
        "    visualize_gold(df_class, df_gender)\n",
        "\n",
        "    logger.info(\"✅ Pipeline ETL completado correctamente.\")\n",
        "\n",
        "# Ejecutar todo el pipeline\n",
        "if __name__ == \"__main__\":\n",
        "    main()"
      ],
      "metadata": {
        "id": "55XP34Aie3lx"
      },
      "execution_count": null,
      "outputs": []
    }
  ]
}